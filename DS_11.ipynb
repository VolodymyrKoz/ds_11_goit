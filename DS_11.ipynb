{
  "nbformat": 4,
  "nbformat_minor": 0,
  "metadata": {
    "colab": {
      "provenance": []
    },
    "kernelspec": {
      "name": "python3",
      "display_name": "Python 3"
    },
    "language_info": {
      "name": "python"
    }
  },
  "cells": [
    {
      "cell_type": "code",
      "execution_count": null,
      "metadata": {
        "id": "WULitnVKQqzR"
      },
      "outputs": [],
      "source": [
        "import numpy as np\n",
        "from tensorflow.keras.datasets import imdb\n",
        "from tensorflow.keras.models import Sequential\n",
        "from tensorflow.keras.layers import Dense, Embedding, SimpleRNN, LSTM, Bidirectional\n",
        "from tensorflow.keras.preprocessing import sequence\n",
        "from keras.callbacks import EarlyStopping\n",
        "\n",
        "max_features = 5000\n",
        "maxlen = 500\n",
        "batch_size = 128\n",
        "epochs = 10\n",
        "\n",
        "(x_train, y_train), (x_test, y_test) = imdb.load_data(num_words=max_features)\n",
        "\n",
        "x_train = sequence.pad_sequences(x_train, maxlen=maxlen)\n",
        "x_test = sequence.pad_sequences(x_test, maxlen=maxlen)\n",
        "\n",
        "early_stopping = EarlyStopping(monitor='val_accuracy', patience=5, restore_best_weights=True)"
      ]
    },
    {
      "cell_type": "code",
      "source": [
        "model_rnn = Sequential()\n",
        "model_rnn.add(Embedding(max_features, 32))\n",
        "model_rnn.add(SimpleRNN(32))\n",
        "model_rnn.add(Dense(1, activation='sigmoid'))\n",
        "\n",
        "\n",
        "model_rnn.compile(optimizer='adam', loss='binary_crossentropy', metrics=['accuracy'])\n",
        "print(model_rnn.summary())\n",
        "\n",
        "model_rnn.fit(x_train, y_train, batch_size=batch_size, epochs=epochs, validation_data=(x_test, y_test), callbacks=[early_stopping])"
      ],
      "metadata": {
        "colab": {
          "base_uri": "https://localhost:8080/"
        },
        "id": "btNJv4XURyui",
        "outputId": "4c7d8c73-a8b9-40e5-f1e5-44d024dd29ae"
      },
      "execution_count": null,
      "outputs": [
        {
          "output_type": "stream",
          "name": "stdout",
          "text": [
            "Model: \"sequential_4\"\n",
            "_________________________________________________________________\n",
            " Layer (type)                Output Shape              Param #   \n",
            "=================================================================\n",
            " embedding_4 (Embedding)     (None, None, 32)          160000    \n",
            "                                                                 \n",
            " simple_rnn_1 (SimpleRNN)    (None, 32)                2080      \n",
            "                                                                 \n",
            " dense_4 (Dense)             (None, 1)                 33        \n",
            "                                                                 \n",
            "=================================================================\n",
            "Total params: 162113 (633.25 KB)\n",
            "Trainable params: 162113 (633.25 KB)\n",
            "Non-trainable params: 0 (0.00 Byte)\n",
            "_________________________________________________________________\n",
            "None\n",
            "Epoch 1/10\n",
            "196/196 [==============================] - 43s 213ms/step - loss: 0.6752 - accuracy: 0.5842 - val_loss: 0.6401 - val_accuracy: 0.6459\n",
            "Epoch 2/10\n",
            "196/196 [==============================] - 38s 195ms/step - loss: 0.4751 - accuracy: 0.7788 - val_loss: 0.4908 - val_accuracy: 0.7619\n",
            "Epoch 3/10\n",
            "196/196 [==============================] - 37s 188ms/step - loss: 0.3216 - accuracy: 0.8680 - val_loss: 0.3719 - val_accuracy: 0.8463\n",
            "Epoch 4/10\n",
            "196/196 [==============================] - 32s 165ms/step - loss: 0.3141 - accuracy: 0.8681 - val_loss: 0.3831 - val_accuracy: 0.8463\n",
            "Epoch 5/10\n",
            "196/196 [==============================] - 38s 195ms/step - loss: 0.1955 - accuracy: 0.9276 - val_loss: 0.3898 - val_accuracy: 0.8470\n",
            "Epoch 6/10\n",
            "196/196 [==============================] - 33s 168ms/step - loss: 0.1403 - accuracy: 0.9523 - val_loss: 0.4549 - val_accuracy: 0.8187\n",
            "Epoch 7/10\n",
            "196/196 [==============================] - 33s 171ms/step - loss: 0.0954 - accuracy: 0.9710 - val_loss: 0.4822 - val_accuracy: 0.8248\n",
            "Epoch 8/10\n",
            "196/196 [==============================] - 41s 211ms/step - loss: 0.0551 - accuracy: 0.9862 - val_loss: 0.5229 - val_accuracy: 0.8409\n",
            "Epoch 9/10\n",
            "196/196 [==============================] - 33s 168ms/step - loss: 0.0421 - accuracy: 0.9892 - val_loss: 0.5600 - val_accuracy: 0.8356\n",
            "Epoch 10/10\n",
            "196/196 [==============================] - 37s 189ms/step - loss: 0.0230 - accuracy: 0.9961 - val_loss: 0.6212 - val_accuracy: 0.8335\n"
          ]
        },
        {
          "output_type": "execute_result",
          "data": {
            "text/plain": [
              "<keras.src.callbacks.History at 0x7d24277d42b0>"
            ]
          },
          "metadata": {},
          "execution_count": 9
        }
      ]
    },
    {
      "cell_type": "code",
      "source": [
        "model_lstm = Sequential()\n",
        "model_lstm.add(Embedding(max_features, 32))\n",
        "model_lstm.add(LSTM(32))\n",
        "model_lstm.add(Dense(1, activation='sigmoid'))\n",
        "\n",
        "model_lstm.compile(optimizer='adam', loss='binary_crossentropy', metrics=['accuracy'])\n",
        "print(model_lstm.summary())\n",
        "\n",
        "model_lstm.fit(x_train, y_train, batch_size=batch_size, epochs=epochs, validation_data=(x_test, y_test), callbacks=[early_stopping])"
      ],
      "metadata": {
        "colab": {
          "base_uri": "https://localhost:8080/"
        },
        "id": "nvZOjZVKSgsF",
        "outputId": "5832359f-8010-4ead-88e8-94b36790dbdb"
      },
      "execution_count": null,
      "outputs": [
        {
          "output_type": "stream",
          "name": "stdout",
          "text": [
            "Model: \"sequential_5\"\n",
            "_________________________________________________________________\n",
            " Layer (type)                Output Shape              Param #   \n",
            "=================================================================\n",
            " embedding_5 (Embedding)     (None, None, 32)          160000    \n",
            "                                                                 \n",
            " lstm_4 (LSTM)               (None, 32)                8320      \n",
            "                                                                 \n",
            " dense_5 (Dense)             (None, 1)                 33        \n",
            "                                                                 \n",
            "=================================================================\n",
            "Total params: 168353 (657.63 KB)\n",
            "Trainable params: 168353 (657.63 KB)\n",
            "Non-trainable params: 0 (0.00 Byte)\n",
            "_________________________________________________________________\n",
            "None\n",
            "Epoch 1/10\n",
            "196/196 [==============================] - 80s 391ms/step - loss: 0.4868 - accuracy: 0.7670 - val_loss: 0.3280 - val_accuracy: 0.8639\n",
            "Epoch 2/10\n",
            "196/196 [==============================] - 76s 386ms/step - loss: 0.2759 - accuracy: 0.8907 - val_loss: 0.2996 - val_accuracy: 0.8764\n",
            "Epoch 3/10\n",
            "196/196 [==============================] - 80s 408ms/step - loss: 0.2250 - accuracy: 0.9149 - val_loss: 0.3133 - val_accuracy: 0.8734\n",
            "Epoch 4/10\n",
            "196/196 [==============================] - 77s 394ms/step - loss: 0.1956 - accuracy: 0.9275 - val_loss: 0.2980 - val_accuracy: 0.8808\n",
            "Epoch 5/10\n",
            "196/196 [==============================] - 80s 409ms/step - loss: 0.1760 - accuracy: 0.9342 - val_loss: 0.3152 - val_accuracy: 0.8715\n",
            "Epoch 6/10\n",
            "196/196 [==============================] - 77s 394ms/step - loss: 0.1529 - accuracy: 0.9446 - val_loss: 0.4166 - val_accuracy: 0.8662\n",
            "Epoch 7/10\n",
            "196/196 [==============================] - 76s 386ms/step - loss: 0.1482 - accuracy: 0.9461 - val_loss: 0.3935 - val_accuracy: 0.8704\n",
            "Epoch 8/10\n",
            "196/196 [==============================] - 76s 390ms/step - loss: 0.1334 - accuracy: 0.9527 - val_loss: 0.3899 - val_accuracy: 0.8692\n",
            "Epoch 9/10\n",
            "196/196 [==============================] - 77s 393ms/step - loss: 0.1154 - accuracy: 0.9593 - val_loss: 0.4199 - val_accuracy: 0.8676\n"
          ]
        },
        {
          "output_type": "execute_result",
          "data": {
            "text/plain": [
              "<keras.src.callbacks.History at 0x7d242c9969b0>"
            ]
          },
          "metadata": {},
          "execution_count": 10
        }
      ]
    },
    {
      "cell_type": "code",
      "source": [
        "model_bid = Sequential()\n",
        "model_bid.add(Embedding(max_features, 32))\n",
        "model_bid.add(Bidirectional(LSTM(32)))\n",
        "model_bid.add(Dense(1, activation='sigmoid'))\n",
        "\n",
        "model_bid.compile(optimizer='adam', loss='binary_crossentropy', metrics=['accuracy'])\n",
        "print(model_bid.summary())\n",
        "\n",
        "model_bid.fit(x_train, y_train, batch_size=batch_size, epochs=epochs, validation_data=(x_test, y_test), callbacks=[early_stopping])"
      ],
      "metadata": {
        "colab": {
          "base_uri": "https://localhost:8080/"
        },
        "id": "xEAp1FkMSkyE",
        "outputId": "16e08da2-3e20-43b7-d190-c76ad367a040"
      },
      "execution_count": null,
      "outputs": [
        {
          "output_type": "stream",
          "name": "stdout",
          "text": [
            "Model: \"sequential_6\"\n",
            "_________________________________________________________________\n",
            " Layer (type)                Output Shape              Param #   \n",
            "=================================================================\n",
            " embedding_6 (Embedding)     (None, None, 32)          160000    \n",
            "                                                                 \n",
            " bidirectional_3 (Bidirecti  (None, 64)                16640     \n",
            " onal)                                                           \n",
            "                                                                 \n",
            " dense_6 (Dense)             (None, 1)                 65        \n",
            "                                                                 \n",
            "=================================================================\n",
            "Total params: 176705 (690.25 KB)\n",
            "Trainable params: 176705 (690.25 KB)\n",
            "Non-trainable params: 0 (0.00 Byte)\n",
            "_________________________________________________________________\n",
            "None\n",
            "Epoch 1/10\n",
            "196/196 [==============================] - 144s 713ms/step - loss: 0.4903 - accuracy: 0.7532 - val_loss: 0.3281 - val_accuracy: 0.8608\n",
            "Epoch 2/10\n",
            "196/196 [==============================] - 140s 715ms/step - loss: 0.2803 - accuracy: 0.8917 - val_loss: 0.3181 - val_accuracy: 0.8672\n",
            "Epoch 3/10\n",
            "196/196 [==============================] - 139s 713ms/step - loss: 0.2258 - accuracy: 0.9160 - val_loss: 0.2915 - val_accuracy: 0.8814\n",
            "Epoch 4/10\n",
            "196/196 [==============================] - 144s 736ms/step - loss: 0.2002 - accuracy: 0.9261 - val_loss: 0.3058 - val_accuracy: 0.8785\n",
            "Epoch 5/10\n",
            "196/196 [==============================] - 139s 712ms/step - loss: 0.1806 - accuracy: 0.9351 - val_loss: 0.3439 - val_accuracy: 0.8731\n",
            "Epoch 6/10\n",
            "196/196 [==============================] - 138s 704ms/step - loss: 0.1782 - accuracy: 0.9341 - val_loss: 0.4096 - val_accuracy: 0.8667\n",
            "Epoch 7/10\n",
            "196/196 [==============================] - 138s 707ms/step - loss: 0.1464 - accuracy: 0.9479 - val_loss: 0.3615 - val_accuracy: 0.8610\n",
            "Epoch 8/10\n",
            "196/196 [==============================] - 139s 710ms/step - loss: 0.1508 - accuracy: 0.9437 - val_loss: 0.3853 - val_accuracy: 0.8658\n"
          ]
        },
        {
          "output_type": "execute_result",
          "data": {
            "text/plain": [
              "<keras.src.callbacks.History at 0x7d2409e93670>"
            ]
          },
          "metadata": {},
          "execution_count": 11
        }
      ]
    },
    {
      "cell_type": "code",
      "source": [
        "model_deepbid = Sequential()\n",
        "model_deepbid.add(Embedding(max_features, 32))\n",
        "model_deepbid.add(Bidirectional(LSTM(32, return_sequences=True)))\n",
        "model_deepbid.add(Bidirectional(LSTM(32)))\n",
        "model_deepbid.add(Dense(1, activation='sigmoid'))\n",
        "\n",
        "model_deepbid.compile(optimizer='adam', loss='binary_crossentropy', metrics=['accuracy'])\n",
        "print(model_deepbid.summary())\n",
        "\n",
        "history = model_deepbid.fit(x_train, y_train, batch_size=batch_size, epochs=epochs, validation_data=(x_test, y_test), callbacks=[early_stopping])"
      ],
      "metadata": {
        "colab": {
          "base_uri": "https://localhost:8080/"
        },
        "id": "frUv7MlQX7WC",
        "outputId": "65bf5562-e1f4-4faf-b634-9a6bfcfd7ad7"
      },
      "execution_count": null,
      "outputs": [
        {
          "output_type": "stream",
          "name": "stdout",
          "text": [
            "Model: \"sequential_7\"\n",
            "_________________________________________________________________\n",
            " Layer (type)                Output Shape              Param #   \n",
            "=================================================================\n",
            " embedding_7 (Embedding)     (None, None, 32)          160000    \n",
            "                                                                 \n",
            " bidirectional_4 (Bidirecti  (None, None, 64)          16640     \n",
            " onal)                                                           \n",
            "                                                                 \n",
            " bidirectional_5 (Bidirecti  (None, 64)                24832     \n",
            " onal)                                                           \n",
            "                                                                 \n",
            " dense_7 (Dense)             (None, 1)                 65        \n",
            "                                                                 \n",
            "=================================================================\n",
            "Total params: 201537 (787.25 KB)\n",
            "Trainable params: 201537 (787.25 KB)\n",
            "Non-trainable params: 0 (0.00 Byte)\n",
            "_________________________________________________________________\n",
            "None\n",
            "Epoch 1/10\n",
            "196/196 [==============================] - 315s 2s/step - loss: 0.4434 - accuracy: 0.7770 - val_loss: 0.2962 - val_accuracy: 0.8749\n",
            "Epoch 2/10\n",
            "196/196 [==============================] - 310s 2s/step - loss: 0.2476 - accuracy: 0.9030 - val_loss: 0.2959 - val_accuracy: 0.8763\n",
            "Epoch 3/10\n",
            "196/196 [==============================] - 309s 2s/step - loss: 0.2022 - accuracy: 0.9239 - val_loss: 0.3036 - val_accuracy: 0.8782\n",
            "Epoch 4/10\n",
            "196/196 [==============================] - 300s 2s/step - loss: 0.1725 - accuracy: 0.9369 - val_loss: 0.3648 - val_accuracy: 0.8629\n",
            "Epoch 5/10\n",
            "196/196 [==============================] - 309s 2s/step - loss: 0.1561 - accuracy: 0.9433 - val_loss: 0.3947 - val_accuracy: 0.8678\n",
            "Epoch 6/10\n",
            "196/196 [==============================] - 313s 2s/step - loss: 0.1254 - accuracy: 0.9574 - val_loss: 0.4038 - val_accuracy: 0.8696\n",
            "Epoch 7/10\n",
            "196/196 [==============================] - 316s 2s/step - loss: 0.1030 - accuracy: 0.9660 - val_loss: 0.4421 - val_accuracy: 0.8634\n",
            "Epoch 8/10\n",
            "196/196 [==============================] - 319s 2s/step - loss: 0.1070 - accuracy: 0.9644 - val_loss: 0.4117 - val_accuracy: 0.8614\n"
          ]
        }
      ]
    },
    {
      "cell_type": "code",
      "source": [
        "import matplotlib.pyplot as plt\n",
        "acc = history.history['accuracy']\n",
        "val_acc = history.history['val_accuracy']\n",
        "loss = history.history['loss']\n",
        "val_loss = history.history['val_loss']\n",
        "\n",
        "epochs = range(1, len(acc) + 1)\n",
        "\n",
        "plt.plot(epochs, acc, 'bo', label='Точність на тренуванні')\n",
        "plt.plot(epochs, val_acc, 'b', label='Точність на валідації')\n",
        "plt.title('Точність тренування і валідації')\n",
        "plt.legend()\n",
        "\n",
        "plt.figure()\n",
        "\n",
        "plt.plot(epochs, loss, 'bo', label='Втрати на тренуванні')\n",
        "plt.plot(epochs, val_loss, 'b', label='Втрати на валідації')\n",
        "plt.title('Втрати тренування і валідації')\n",
        "plt.legend()\n",
        "\n",
        "plt.show()"
      ],
      "metadata": {
        "colab": {
          "base_uri": "https://localhost:8080/",
          "height": 887
        },
        "id": "zVGMfP-lHbQW",
        "outputId": "a191803d-6595-436d-a522-69b3a79c11d1"
      },
      "execution_count": null,
      "outputs": [
        {
          "output_type": "display_data",
          "data": {
            "text/plain": [
              "<Figure size 640x480 with 1 Axes>"
            ],
            "image/png": "[encoded data removed]"
          },
          "metadata": {}
        },
        {
          "output_type": "display_data",
          "data": {
            "text/plain": [
              "<Figure size 640x480 with 1 Axes>"
            ],
            "image/png": "[encoded data removed]"
          },
          "metadata": {}
        }
      ]
    },
    {
      "cell_type": "code",
      "source": [
        "def evaluate_model(model):\n",
        "    loss, accuracy = model.evaluate(x_test, y_test)\n",
        "    print(\"Test Accuracy:\", accuracy)\n",
        "    print(\"Test Loss:\", loss)\n",
        "\n",
        "print(\"Проста RNN:\")\n",
        "evaluate_model(model_rnn)\n",
        "\n",
        "print(\"\\nLSTM:\")\n",
        "evaluate_model(model_lstm)\n",
        "\n",
        "print(\"\\nBidirectional LSTM:\")\n",
        "evaluate_model(model_bid)\n",
        "\n",
        "print(\"\\nDeepBidirectional LSTM:\")\n",
        "evaluate_model(model_deepbid)"
      ],
      "metadata": {
        "colab": {
          "base_uri": "https://localhost:8080/"
        },
        "id": "KJbrQ5e4tTgr",
        "outputId": "54d8fff1-43dd-4961-b406-89645a89fc6e"
      },
      "execution_count": null,
      "outputs": [
        {
          "output_type": "stream",
          "name": "stdout",
          "text": [
            "Проста RNN:\n",
            "782/782 [==============================] - 18s 23ms/step - loss: 0.3898 - accuracy: 0.8470\n",
            "Test Accuracy: 0.8470399975776672\n",
            "Test Loss: 0.3897869288921356\n",
            "\n",
            "LSTM:\n",
            "782/782 [==============================] - 32s 41ms/step - loss: 0.2980 - accuracy: 0.8808\n",
            "Test Accuracy: 0.8807600140571594\n",
            "Test Loss: 0.2979878783226013\n",
            "\n",
            "Bidirectional LSTM:\n",
            "782/782 [==============================] - 54s 69ms/step - loss: 0.2915 - accuracy: 0.8814\n",
            "Test Accuracy: 0.8813599944114685\n",
            "Test Loss: 0.29147928953170776\n",
            "\n",
            "DeepBidirectional LSTM:\n",
            "782/782 [==============================] - 111s 142ms/step - loss: 0.3036 - accuracy: 0.8782\n",
            "Test Accuracy: 0.8782399892807007\n",
            "Test Loss: 0.3036244213581085\n"
          ]
        }
      ]
    },
    {
      "cell_type": "code",
      "source": [
        "predictions = model_rnn.predict(x_test)\n",
        "\n",
        "binary_predictions = [1 if pred > 0.5 else 0 for pred in predictions]\n",
        "\n",
        "for i in range(10):\n",
        "    print(f\"Прогнозоване: {binary_predictions[i]}, Фактичне: {y_test[i]}\")\n",
        "\n",
        "test_loss, test_acc = model_bid.evaluate(x_test, y_test)\n",
        "print('Test Loss: {}'.format(test_loss))\n",
        "print('Test Accuracy: {}'.format(test_acc))"
      ],
      "metadata": {
        "colab": {
          "base_uri": "https://localhost:8080/"
        },
        "id": "I6E7bEQaC98g",
        "outputId": "6c82023b-2387-4d45-d8b3-65225a288835"
      },
      "execution_count": null,
      "outputs": [
        {
          "output_type": "stream",
          "name": "stdout",
          "text": [
            "782/782 [==============================] - 18s 23ms/step\n",
            "Прогнозоване: 0, Фактичне: 0\n",
            "Прогнозоване: 1, Фактичне: 1\n",
            "Прогнозоване: 0, Фактичне: 1\n",
            "Прогнозоване: 0, Фактичне: 0\n",
            "Прогнозоване: 1, Фактичне: 1\n",
            "Прогнозоване: 1, Фактичне: 1\n",
            "Прогнозоване: 1, Фактичне: 1\n",
            "Прогнозоване: 0, Фактичне: 0\n",
            "Прогнозоване: 1, Фактичне: 0\n",
            "Прогнозоване: 1, Фактичне: 1\n",
            "782/782 [==============================] - 53s 68ms/step - loss: 0.2915 - accuracy: 0.8814\n",
            "Test Loss: 0.29147928953170776\n",
            "Test Accuracy: 0.8813599944114685\n"
          ]
        }
      ]
    }
  ]
}